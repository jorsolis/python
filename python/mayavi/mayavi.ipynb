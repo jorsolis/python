{
 "cells": [
  {
   "cell_type": "code",
   "execution_count": 1,
   "metadata": {},
   "outputs": [],
   "source": [
    "from numpy import *\n",
    "from scipy.special import sph_harm \n",
    "from mayavi import *"
   ]
  },
  {
   "cell_type": "code",
   "execution_count": 8,
   "metadata": {},
   "outputs": [],
   "source": [
    "theta_1d = linspace(0,   pi,  91) \n",
    "phi_1d   = linspace(0, 2*pi, 181)\n",
    "\n",
    "theta_2d, phi_2d = meshgrid(theta_1d, phi_1d)\n",
    "xyz_2d = array([sin(theta_2d) * sin(phi_2d),\n",
    "                sin(theta_2d) * cos(phi_2d),\n",
    "                cos(theta_2d)]) \n",
    "l=3\n",
    "m=1\n",
    "\n",
    "Y_lm = sph_harm(m,l, phi_2d, theta_2d)\n",
    "r = abs(Y_lm.real)*xyz_2d    "
   ]
  },
  {
   "cell_type": "code",
   "execution_count": 9,
   "metadata": {},
   "outputs": [],
   "source": [
    "from mayavi import mlab"
   ]
  },
  {
   "cell_type": "code",
   "execution_count": 10,
   "metadata": {},
   "outputs": [
    {
     "name": "stderr",
     "output_type": "stream",
     "text": [
      "/home/jordis/anaconda2/envs/pyconda/lib/python3.5/site-packages/mayavi-4.5.0-py3.5-linux-x86_64.egg/tvtk/array_handler.py:268: FutureWarning: Conversion of the second argument of issubdtype from `complex` to `np.complexfloating` is deprecated. In future, it will be treated as `np.complex128 == np.dtype(complex).type`.\n",
      "  assert not numpy.issubdtype(z.dtype, complex), \\\n"
     ]
    },
    {
     "name": "stdout",
     "output_type": "stream",
     "text": [
      "setting roll\n"
     ]
    }
   ],
   "source": [
    "mlab.figure(size=(700,830))\n",
    "mlab.mesh(r[0], r[1], r[2], scalars=Y_lm.real, colormap=\"cool\")\n",
    "mlab.view(azimuth=0, elevation=75, distance=2.4, roll=-50)\n",
    "mlab.savefig(\"Y_%i_%i.jpg\" % (l,m))\n",
    "mlab.show()"
   ]
  },
  {
   "cell_type": "code",
   "execution_count": null,
   "metadata": {
    "collapsed": true
   },
   "outputs": [],
   "source": []
  }
 ],
 "metadata": {
  "kernelspec": {
   "display_name": "Python 3",
   "language": "python",
   "name": "python3"
  },
  "language_info": {
   "codemirror_mode": {
    "name": "ipython",
    "version": 3
   },
   "file_extension": ".py",
   "mimetype": "text/x-python",
   "name": "python",
   "nbconvert_exporter": "python",
   "pygments_lexer": "ipython3",
   "version": "3.5.6"
  }
 },
 "nbformat": 4,
 "nbformat_minor": 2
}
