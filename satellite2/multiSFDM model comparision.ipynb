{
 "cells": [
  {
   "cell_type": "code",
   "execution_count": 2,
   "metadata": {},
   "outputs": [
    {
     "name": "stdout",
     "output_type": "stream",
     "text": [
      "galpyWarning: libgalpy C extension module not loaded, because libgalpy.cpython-37m-x86_64-linux-gnu.so image was not found\n"
     ]
    }
   ],
   "source": [
    "import pandas as pd\n",
    "import numpy as np\n",
    "from constants_grav import hc, Gentc2, letr\n",
    "from def_potenciales import f\n",
    "import plots_jordi as pts"
   ]
  },
  {
   "cell_type": "code",
   "execution_count": 20,
   "metadata": {},
   "outputs": [
    {
     "name": "stdout",
     "output_type": "stream",
     "text": [
      "--------------dwarf_disk_galaxies---------------------\n",
      "------------------------------------------------------\n",
      "name \t rChi \t AIC \t BIC \t mu \t errmu \t M_d\n",
      "core \t 1.6 \t 9.5 \t 11.4 \t 17.43 \t 375.36 \t 12.00\n",
      "------------------LSB galaxies------------------------\n",
      "------------------ bin 1------------------------------\n",
      "core \t 1.3 \t 6.1 \t 7.6 \t 7.30 \t 54.74 \t 63.50\n",
      "------------------ bin 2------------------------------\n",
      "core \t 1.2 \t 4.1 \t 5.3 \t 2.10 \t 8.95 \t 411.71\n",
      "------------------ bin 3------------------------------\n",
      "core \t 0.2 \t -17.4 \t -16.0 \t 1.20 \t 8.59 \t 1381.48\n"
     ]
    }
   ],
   "source": [
    "dirfits = '/home/jordi/The_universal_rotation_curve_of_dwarf_disk_galaxies/Fits/'\n",
    "print('--------------dwarf_disk_galaxies---------------------')\n",
    "print('------------------------------------------------------')\n",
    "print('name \\t rChi \\t AIC \\t BIC \\t mu \\t errmu \\t M_d')\n",
    "ID = 'core'\n",
    "stat = pd.read_pickle('%sgauss/fitstat_%s.pkl'%(dirfits, ID)) \n",
    "statp = pd.read_pickle('%sgauss/fitparamsstat_%s.pkl'%(dirfits, ID))\n",
    "Mc = statp['value'][1]\n",
    "Md = statp['value'][2]\n",
    "Rc = statp['value'][3]\n",
    "ad = statp['value'][4]\n",
    "#print(statp)\n",
    "mu = np.sqrt(1/(Gentc2*Rc*f(Rc, Mc, Rc)))\n",
    "Rc1, Mc1, _ = np.load('%sgauss/unsigma_nsol1000_%s.npy'%(dirfits, ID))\n",
    "mu1 = np.sqrt(1/(Gentc2*Rc1*f(Rc1, Mc1, Rc1)))\n",
    "print('core \\t %.1f \\t %.1f \\t %.1f \\t %.2f \\t %.2f \\t %.2f'%(stat['redchi'][0], stat['AIC'][0], stat['BIC'][0], mu*hc*1e24, mu1*hc*1e24, Md*1e3))\n",
    "\n",
    "print('------------------LSB galaxies------------------------')\n",
    "for nbin in range(1,4,1):\n",
    "    dirfits = '/home/jordi/LSB_galaxies/URC/Fits/bin%d/'%nbin\n",
    "\n",
    "    print('------------------ bin %d------------------------------'%nbin)\n",
    "    dirfitscore = '/home/jordi/LSB_galaxies/URC/Fits_gauss/bin%d/'%nbin\n",
    "    ID = 'MCMC_core_vbin%d'%nbin\n",
    "    stat = pd.read_pickle('%sfitstat_%s.pkl'%(dirfitscore, ID)) \n",
    "    statp = pd.read_pickle('%sfitparamsstat_%s.pkl'%(dirfitscore, ID))\n",
    "    #print(statp)\n",
    "    Mc = statp['value'][0]\n",
    "    Md = statp['value'][1]\n",
    "    Rc = statp['value'][2]\n",
    "    ad = statp['value'][3]\n",
    "    mu = np.sqrt(1/(Gentc2*Rc*f(Rc, Mc, Rc)))\n",
    "    Rc1, Mc1, _ = np.load('%sunsigma_nsol%d_%s.npy'%(dirfitscore, nbin, ID))\n",
    "    mu1 = np.sqrt(1/(Gentc2*Rc1*f(Rc1, Mc1, Rc1)))\n",
    "    print('core \\t %.1f \\t %.1f \\t %.1f \\t %.2f \\t %.2f \\t %.2f'%(stat['redchi'][0], stat['AIC'][0], stat['BIC'][0], mu*hc*1e24, mu1*hc*1e24, Md*1e3))\n"
   ]
  },
  {
   "cell_type": "code",
   "execution_count": 4,
   "metadata": {},
   "outputs": [
    {
     "name": "stdout",
     "output_type": "stream",
     "text": [
      "2 \t 1.3 \t 6.2 \t 8.1 \t 25.5 \t 1.3 \t 24.2 \t 26.8\n",
      "3 \t 4.0 \t 21.9 \t 23.9 \t 39.0 \t 1.4 \t 37.6 \t 40.4\n",
      "6 \t 1.4 \t 7.1 \t 9.0 \t 18.5 \t 0.9 \t 17.6 \t 19.4\n",
      "101 \t 11.4 \t 36.7 \t 38.6 \t 3.0 \t 0.2 \t 2.9 \t 3.2\n",
      "102 \t 1.1 \t 3.6 \t 5.5 \t 20.9 \t 1.2 \t 19.7 \t 22.1\n",
      "103 \t 5.0 \t 25.2 \t 27.1 \t 41.3 \t 1.4 \t 40.0 \t 42.7\n",
      "------------------LSB galaxies------------------------\n",
      "------------------ bin 1------------------------------\n",
      "name \t rChi \t AIC \t BIC \t mu \t errmu \t mu- \t mu+\n",
      "core \t 1.3 \t 6.1 \t 7.6 \t 7.30 \t 54.74\n",
      "2 \t 1.3 \t 5.6 \t 7.0 \t 11.2 \t 1.4 \t 9.8 \t 12.6\n",
      "3 \t 2.1 \t 11.2 \t 12.7 \t 16.6 \t 1.5 \t 15.1 \t 18.1\n",
      "6 \t 1.3 \t 5.8 \t 7.3 \t 8.9 \t 1.2 \t 7.7 \t 10.1\n",
      "101 \t 4.2 \t 19.8 \t 21.3 \t 20.7 \t 1.1 \t 19.7 \t 21.8\n",
      "102 \t 1.2 \t 4.3 \t 5.8 \t 9.1 \t 1.3 \t 7.8 \t 10.4\n",
      "103 \t 1.7 \t 9.0 \t 10.5 \t 17.5 \t 1.5 \t 16.0 \t 19.0\n",
      "------------------LSB galaxies------------------------\n",
      "------------------ bin 2------------------------------\n",
      "name \t rChi \t AIC \t BIC \t mu \t errmu \t mu- \t mu+\n",
      "core \t 1.2 \t 4.1 \t 5.3 \t 2.10 \t 8.95\n",
      "2 \t 1.1 \t 3.7 \t 4.9 \t 3.2 \t 0.6 \t 2.5 \t 3.8\n",
      "3 \t 0.7 \t -2.1 \t -0.9 \t 6.6 \t 0.6 \t 6.0 \t 7.1\n",
      "6 \t 1.1 \t 3.6 \t 4.8 \t 2.5 \t 0.5 \t 1.9 \t 3.0\n",
      "101 \t 1.8 \t 8.7 \t 9.9 \t 10.3 \t 0.4 \t 9.9 \t 10.6\n",
      "102 \t 1.2 \t 4.6 \t 5.8 \t 2.5 \t 0.6 \t 1.9 \t 3.0\n",
      "103 \t 1.4 \t 6.2 \t 7.4 \t 7.9 \t 1.1 \t 6.9 \t 9.0\n",
      "------------------LSB galaxies------------------------\n",
      "------------------ bin 3------------------------------\n",
      "name \t rChi \t AIC \t BIC \t mu \t errmu \t mu- \t mu+\n",
      "core \t 0.2 \t -17.4 \t -16.0 \t 1.20 \t 8.59\n",
      "2 \t 0.2 \t -17.4 \t -15.9 \t 1.7 \t 0.2 \t 1.5 \t 2.0\n",
      "3 \t 0.2 \t -18.1 \t -16.7 \t 3.1 \t 0.2 \t 2.9 \t 3.4\n",
      "6 \t 0.2 \t -16.8 \t -15.4 \t 1.4 \t 0.2 \t 1.2 \t 1.6\n",
      "101 \t 2.1 \t 11.2 \t 12.6 \t 4.7 \t 0.1 \t 4.5 \t 4.8\n",
      "102 \t 0.2 \t -16.2 \t -14.8 \t 1.4 \t 0.2 \t 1.2 \t 1.6\n",
      "103 \t 0.1 \t -23.6 \t -22.2 \t 3.8 \t 0.2 \t 3.6 \t 4.0\n",
      "------------------LSB galaxies------------------------\n",
      "------------------ bin 4------------------------------\n",
      "name \t rChi \t AIC \t BIC \t mu \t errmu \t mu- \t mu+\n",
      "101 \t 3.6 \t 13.9 \t 14.5 \t 4.3 \t 0.5 \t 3.8 \t 4.8\n",
      "------------------LSB galaxies------------------------\n",
      "------------------ bin 5------------------------------\n",
      "name \t rChi \t AIC \t BIC \t mu \t errmu \t mu- \t mu+\n",
      "101 \t 1.2 \t 4.7 \t 6.3 \t 1.5 \t 0.2 \t 1.3 \t 1.7\n"
     ]
    }
   ],
   "source": [
    "MU = []; MU2=[]; AD = []\n",
    "DMU = []\n",
    "NCOR = []\n",
    "dirfits = '/home/jordi/The_universal_rotation_curve_of_dwarf_disk_galaxies/Fits/'\n",
    "print('--------------dwarf_disk_galaxies---------------------')\n",
    "print('------------------------------------------------------')\n",
    "print('name \\t rChi \\t AIC \\t BIC \\t mu \\t errmu \\t mu- \\t mu+')\n",
    "ID = 'core'\n",
    "stat = pd.read_pickle('%sgauss/fitstat_%s.pkl'%(dirfits, ID)) \n",
    "statp = pd.read_pickle('%sgauss/fitparamsstat_%s.pkl'%(dirfits, ID))\n",
    "\n",
    "Mc = statp['value'][1]\n",
    "Rc = statp['value'][3]\n",
    "ad = statp['value'][4]\n",
    "mu = np.sqrt(1/(Gentc2*Rc*f(Rc, Mc, Rc)))\n",
    "MU.append(mu*hc*1e24)\n",
    "MU2.append(1e3/mu)\n",
    "NCOR.append(1)\n",
    "AD.append(ad)\n",
    "Rc1, Mc1, _ = np.load('%sgauss/unsigma_nsol1000_%s.npy'%(dirfits, ID))\n",
    "mu1 = np.sqrt(1/(Gentc2*Rc1*f(Rc1, Mc1, Rc1)))\n",
    "DMU.append(1)\n",
    "print('core \\t %.1f \\t %.1f \\t %.1f \\t %.2f \\t %.2f'%(stat['redchi'][0], stat['AIC'][0], stat['BIC'][0], mu*hc*1e24, mu1*hc*1e24))\n",
    "for nsol in (2, 3, 6, 101, 102, 103):\n",
    "    ID = 'multi_nsol%d'%nsol\n",
    "    stat = pd.read_pickle('%sfitstat_%s.pkl'%(dirfits, ID)) \n",
    "    statp = pd.read_pickle('%sfitparamsstat_%s.pkl'%(dirfits, ID))\n",
    "    mukpc = statp['value'][3]\n",
    "    mu = statp['value'][3]*hc*1e24\n",
    "    dmu = statp['stderr'][3]*hc*1e24\n",
    "    ad = statp['value'][2]\n",
    "    MU.append(mu)\n",
    "    MU2.append(1e3/mukpc)\n",
    "    DMU.append(dmu)\n",
    "    NCOR.append(nsol)\n",
    "    AD.append(ad)\n",
    "    print('%s \\t %.1f \\t %.1f \\t %.1f \\t %.1f \\t %.1f \\t %.1f \\t %.1f'%(nsol, \n",
    "        stat['redchi'][0], stat['AIC'][0], stat['BIC'][0], mu, dmu, mu - dmu,  mu + dmu))\n",
    "###############################################################################################################\n",
    "###############################################################################################################\n",
    "nbin = 1\n",
    "dirfits = '/home/jordi/LSB_galaxies/URC/Fits/bin%d/'%nbin\n",
    "print('------------------LSB galaxies------------------------')\n",
    "print('------------------ bin %d------------------------------'%nbin)\n",
    "print('name \\t rChi \\t AIC \\t BIC \\t mu \\t errmu \\t mu- \\t mu+')\n",
    "\n",
    "dirfitscore = '/home/jordi/LSB_galaxies/URC/Fits_gauss/bin%d/'%nbin\n",
    "ID = 'MCMC_core_vbin%d'%nbin\n",
    "stat = pd.read_pickle('%sfitstat_%s.pkl'%(dirfitscore, ID)) \n",
    "statp = pd.read_pickle('%sfitparamsstat_%s.pkl'%(dirfitscore, ID))\n",
    "\n",
    "Mc = statp['value'][0]\n",
    "Rc = statp['value'][2]\n",
    "ad = statp['value'][3]\n",
    "mu = np.sqrt(1/(Gentc2*Rc*f(Rc, Mc, Rc)))\n",
    "MU.append(mu*hc*1e24)\n",
    "MU2.append(1e3/mu)\n",
    "NCOR.append(1)\n",
    "AD.append(ad)\n",
    "Rc1, Mc1, _ = np.load('%sunsigma_nsol%d_%s.npy'%(dirfitscore, nbin, ID))\n",
    "mu1 = np.sqrt(1/(Gentc2*Rc1*f(Rc1, Mc1, Rc1)))\n",
    "DMU.append(1)\n",
    "print('core \\t %.1f \\t %.1f \\t %.1f \\t %.2f \\t %.2f'%(stat['redchi'][0], stat['AIC'][0], stat['BIC'][0], mu*hc*1e24, mu1*hc*1e24))\n",
    "for nsol in (2, 3, 6, 101, 102, 103):\n",
    "    ID = 'MCMC_vbin%d_nsol%d'%(nbin,nsol)\n",
    "    stat = pd.read_pickle('%sfitstat_%s.pkl'%(dirfits, ID)) \n",
    "    statp = pd.read_pickle('%sfitparamsstat_%s.pkl'%(dirfits, ID))\n",
    "    mukpc = statp['value'][2]\n",
    "    mu = statp['value'][2]*hc*1e24\n",
    "    dmu = statp['stderr'][2]*hc*1e24\n",
    "    ad = statp['value'][1]\n",
    "    MU.append(mu)\n",
    "    MU2.append(1e3/mukpc)\n",
    "    DMU.append(dmu)\n",
    "    NCOR.append(nsol)\n",
    "    AD.append(ad)\n",
    "    print('%s \\t %.1f \\t %.1f \\t %.1f \\t %.1f \\t %.1f \\t %.1f \\t %.1f'%(nsol,  \n",
    "        stat['redchi'][0], stat['AIC'][0], stat['BIC'][0], mu, dmu, mu - dmu,  mu + dmu))\n",
    "###############################################################################################################\n",
    "###############################################################################################################\n",
    "nbin = 2\n",
    "dirfits = '/home/jordi/LSB_galaxies/URC/Fits/bin%d/'%nbin\n",
    "print('------------------LSB galaxies------------------------')\n",
    "print('------------------ bin %d------------------------------'%nbin)\n",
    "print('name \\t rChi \\t AIC \\t BIC \\t mu \\t errmu \\t mu- \\t mu+')\n",
    "\n",
    "dirfitscore = '/home/jordi/LSB_galaxies/URC/Fits_gauss/bin%d/'%nbin\n",
    "ID = 'MCMC_core_vbin%d'%nbin\n",
    "stat = pd.read_pickle('%sfitstat_%s.pkl'%(dirfitscore, ID)) \n",
    "statp = pd.read_pickle('%sfitparamsstat_%s.pkl'%(dirfitscore, ID))\n",
    "\n",
    "Mc = statp['value'][0]\n",
    "Rc = statp['value'][2]\n",
    "ad = statp['value'][3]\n",
    "mu = np.sqrt(1/(Gentc2*Rc*f(Rc, Mc, Rc)))\n",
    "MU.append(mu*hc*1e24)\n",
    "MU2.append(1e3/mu)\n",
    "NCOR.append(1)\n",
    "AD.append(ad)\n",
    "Rc1, Mc1, _ = np.load('%sunsigma_nsol%d_%s.npy'%(dirfitscore, nbin, ID))\n",
    "mu1 = np.sqrt(1/(Gentc2*Rc1*f(Rc1, Mc1, Rc1)))\n",
    "DMU.append(1)\n",
    "print('core \\t %.1f \\t %.1f \\t %.1f \\t %.2f \\t %.2f'%(stat['redchi'][0], stat['AIC'][0], stat['BIC'][0], mu*hc*1e24, mu1*hc*1e24))\n",
    "for nsol in (2, 3, 6, 101, 102, 103):\n",
    "    ID = 'MCMC_vbin%d_nsol%d'%(nbin,nsol)\n",
    "    stat = pd.read_pickle('%sfitstat_%s.pkl'%(dirfits, ID)) \n",
    "    statp = pd.read_pickle('%sfitparamsstat_%s.pkl'%(dirfits, ID))\n",
    "    mukpc = statp['value'][2]\n",
    "    mu = statp['value'][2]*hc*1e24\n",
    "    dmu = statp['stderr'][2]*hc*1e24\n",
    "    ad = statp['value'][1]\n",
    "    MU.append(mu)\n",
    "    MU2.append(1e3/mukpc)\n",
    "    DMU.append(dmu)\n",
    "    NCOR.append(nsol)\n",
    "    AD.append(ad)\n",
    "    print('%s \\t %.1f \\t %.1f \\t %.1f \\t %.1f \\t %.1f \\t %.1f \\t %.1f'%(nsol,\n",
    "        stat['redchi'][0], stat['AIC'][0], stat['BIC'][0], mu, dmu, mu - dmu,  mu + dmu))\n",
    "###############################################################################################################\n",
    "###############################################################################################################\n",
    "nbin = 3\n",
    "dirfits = '/home/jordi/LSB_galaxies/URC/Fits/bin%d/'%nbin\n",
    "print('------------------LSB galaxies------------------------')\n",
    "print('------------------ bin %d------------------------------'%nbin)\n",
    "print('name \\t rChi \\t AIC \\t BIC \\t mu \\t errmu \\t mu- \\t mu+')\n",
    "\n",
    "dirfitscore = '/home/jordi/LSB_galaxies/URC/Fits_gauss/bin%d/'%nbin\n",
    "ID = 'MCMC_core_vbin%d'%nbin\n",
    "stat = pd.read_pickle('%sfitstat_%s.pkl'%(dirfitscore, ID)) \n",
    "statp = pd.read_pickle('%sfitparamsstat_%s.pkl'%(dirfitscore, ID))\n",
    "\n",
    "Mc = statp['value'][0]\n",
    "Rc = statp['value'][2]\n",
    "ad = statp['value'][3]\n",
    "mu = np.sqrt(1/(Gentc2*Rc*f(Rc, Mc, Rc)))\n",
    "MU.append(mu*hc*1e24)\n",
    "MU2.append(1e3/mu)\n",
    "NCOR.append(1)\n",
    "AD.append(ad)\n",
    "Rc1, Mc1, _ = np.load('%sunsigma_nsol%d_%s.npy'%(dirfitscore, nbin, ID))\n",
    "mu1 = np.sqrt(1/(Gentc2*Rc1*f(Rc1, Mc1, Rc1)))\n",
    "DMU.append(1)\n",
    "print('core \\t %.1f \\t %.1f \\t %.1f \\t %.2f \\t %.2f'%(stat['redchi'][0], stat['AIC'][0], stat['BIC'][0], mu*hc*1e24, mu1*hc*1e24))\n",
    "for nsol in (2, 3, 6, 101, 102, 103):\n",
    "    ID = 'MCMC_vbin%d_nsol%d'%(nbin,nsol)\n",
    "    stat = pd.read_pickle('%sfitstat_%s.pkl'%(dirfits, ID)) \n",
    "    statp = pd.read_pickle('%sfitparamsstat_%s.pkl'%(dirfits, ID))\n",
    "    mukpc = statp['value'][2]\n",
    "    mu = statp['value'][2]*hc*1e24\n",
    "    dmu = statp['stderr'][2]*hc*1e24\n",
    "    ad = statp['value'][1]\n",
    "    MU.append(mu)\n",
    "    MU2.append(1e3/mukpc)\n",
    "    DMU.append(dmu)\n",
    "    NCOR.append(nsol)\n",
    "    AD.append(ad)\n",
    "    print('%s \\t %.1f \\t %.1f \\t %.1f \\t %.1f \\t %.1f \\t %.1f \\t %.1f'%(nsol,\n",
    "        stat['redchi'][0], stat['AIC'][0], stat['BIC'][0], mu, dmu, mu - dmu,  mu + dmu))    \n",
    "###############################################################################################################\n",
    "###############################################################################################################\n",
    "dirfits = '/home/jordi/LSB_galaxies/URC/Fits/bin4/'\n",
    "print('------------------LSB galaxies------------------------')\n",
    "print('------------------ bin 4------------------------------')\n",
    "print('name \\t rChi \\t AIC \\t BIC \\t mu \\t errmu \\t mu- \\t mu+')\n",
    "nsol = 101\n",
    "ID = 'MCMC_vbin4_nsol%d'%nsol\n",
    "stat = pd.read_pickle('%sfitstat_%s.pkl'%(dirfits, ID)) \n",
    "statp = pd.read_pickle('%sfitparamsstat_%s.pkl'%(dirfits, ID))\n",
    "mukpc = statp['value'][2]\n",
    "mu = statp['value'][2]*hc*1e24\n",
    "dmu = statp['stderr'][2]*hc*1e24\n",
    "ad = statp['value'][1]\n",
    "MU.append(mu)\n",
    "MU2.append(1e3/mukpc)\n",
    "DMU.append(dmu)\n",
    "NCOR.append(nsol)\n",
    "AD.append(ad)\n",
    "print('%s \\t %.1f \\t %.1f \\t %.1f \\t %.1f \\t %.1f \\t %.1f \\t %.1f'%(nsol,  \n",
    "        stat['redchi'][0], stat['AIC'][0], stat['BIC'][0], mu, dmu, mu - dmu,  mu + dmu))\n",
    "###############################################################################################################\n",
    "###############################################################################################################\n",
    "dirfits = '/home/jordi/LSB_galaxies/URC/Fits/bin5/'\n",
    "print('------------------LSB galaxies------------------------')\n",
    "print('------------------ bin 5------------------------------')\n",
    "print('name \\t rChi \\t AIC \\t BIC \\t mu \\t errmu \\t mu- \\t mu+')\n",
    "nsol = 101\n",
    "ID = 'MCMC_vbin5_nsol%d'%nsol\n",
    "stat = pd.read_pickle('%sfitstat_%s.pkl'%(dirfits, ID)) \n",
    "statp = pd.read_pickle('%sfitparamsstat_%s.pkl'%(dirfits, ID))\n",
    "mukpc = statp['value'][3]\n",
    "mu = statp['value'][3]*hc*1e24\n",
    "dmu = statp['stderr'][3]*hc*1e24\n",
    "ad = statp['value'][1]\n",
    "MU.append(mu)\n",
    "MU2.append(1e3/mukpc)\n",
    "DMU.append(dmu)\n",
    "NCOR.append(nsol)\n",
    "AD.append(ad)\n",
    "print('%s \\t %.1f \\t %.1f \\t %.1f \\t %.1f \\t %.1f \\t %.1f \\t %.1f'%(nsol,\n",
    "        stat['redchi'][0], stat['AIC'][0], stat['BIC'][0], mu, dmu, mu - dmu,  mu + dmu))"
   ]
  },
  {
   "cell_type": "code",
   "execution_count": 3,
   "metadata": {},
   "outputs": [
    {
     "data": {
      "image/png": "[encoded data removed]",
      "text/plain": [
       "<Figure size 700x400 with 1 Axes>"
      ]
     },
     "metadata": {},
     "output_type": "display_data"
    }
   ],
   "source": [
    "pts.scater(AD,MU2,r'$a_d$(kpc)',r'$\\mu^{-1}$(pc)','')"
   ]
  },
  {
   "cell_type": "code",
   "execution_count": 4,
   "metadata": {},
   "outputs": [
    {
     "data": {
      "image/png": "[encoded data removed]",
      "text/plain": [
       "<Figure size 700x400 with 1 Axes>"
      ]
     },
     "metadata": {},
     "output_type": "display_data"
    }
   ],
   "source": [
    "pts.scater(AD,MU,r'$a_d$(kpc)',r'$\\mu$($10^{-24}$eV)','')"
   ]
  },
  {
   "cell_type": "code",
   "execution_count": 5,
   "metadata": {},
   "outputs": [],
   "source": [
    "MU = np.array(MU)\n",
    "DMU = np.array(DMU)\n",
    "NCOR = np.array(NCOR)"
   ]
  },
  {
   "cell_type": "code",
   "execution_count": 6,
   "metadata": {},
   "outputs": [
    {
     "data": {
      "image/png": "[encoded data removed]",
      "text/plain": [
       "<Figure size 700x400 with 1 Axes>"
      ]
     },
     "metadata": {},
     "output_type": "display_data"
    }
   ],
   "source": [
    "pts.scater(NCOR,MU,'sol',r'$\\mu/10^{-24}$eV/$c^2$','',ylim=(0,0),xlim=(0,7),\n",
    "           errorbar= True, yerr= DMU, initialview=[45,-60],\n",
    "           name = '', dpi = 250, save = True, s = 1.)"
   ]
  },
  {
   "cell_type": "code",
   "execution_count": 7,
   "metadata": {},
   "outputs": [
    {
     "data": {
      "image/png": "[encoded data removed]",
      "text/plain": [
       "<Figure size 700x400 with 1 Axes>"
      ]
     },
     "metadata": {},
     "output_type": "display_data"
    }
   ],
   "source": [
    "pts.scater(NCOR,MU,'sol',r'$\\mu/10^{-24}$eV/$c^2$','',ylim=(0,0),xlim=(100,104),\n",
    "           errorbar= True, yerr= DMU, save = True, s = 1.)"
   ]
  },
  {
   "cell_type": "code",
   "execution_count": 8,
   "metadata": {},
   "outputs": [],
   "source": [
    "BMU = []\n",
    "BDMU = []\n",
    "dirfits = '/home/jordi/The_universal_rotation_curve_of_dwarf_disk_galaxies/Fits/'\n",
    "nsol = 102\n",
    "pars = np.load('%spopt_nsol%d_multi.npy'%(dirfits, nsol))\n",
    "BMU.append(pars[0])"
   ]
  },
  {
   "cell_type": "code",
   "execution_count": 9,
   "metadata": {},
   "outputs": [],
   "source": [
    "sig = np.load('%sunsigma_nsol%d_multi.npy'%(dirfits, nsol))\n",
    "BDMU.append(sig[0])"
   ]
  },
  {
   "cell_type": "code",
   "execution_count": 10,
   "metadata": {},
   "outputs": [],
   "source": [
    "for nbin in range(1,6):\n",
    "    dirfits = '/home/jordi/LSB_galaxies/URC/Fits/bin%d/'%nbin\n",
    "    if nbin == 1:\n",
    "        ncor = 102\n",
    "    elif nbin == 2:\n",
    "        ncor = 3\n",
    "    elif nbin ==3:\n",
    "        ncor = 103\n",
    "    else:\n",
    "        ncor = 101 \n",
    "    pars = np.load('%spopt_nsol%d_MCMC_vbin%d.npy'%(dirfits, ncor, nbin))\n",
    "    BMU.append(pars[0])\n",
    "    sig = np.load('%sunsigma_nsol%d_MCMC_vbin%d.npy'%(dirfits, ncor, nbin))\n",
    "    BDMU.append(sig[0])"
   ]
  },
  {
   "cell_type": "code",
   "execution_count": 11,
   "metadata": {},
   "outputs": [
    {
     "data": {
      "text/plain": [
       "[3272.2193989993193,\n",
       " 1427.4919650179827,\n",
       " 1025.464431214366,\n",
       " 591.3080483728213,\n",
       " 671.269474575425,\n",
       " 235.62889062554896]"
      ]
     },
     "execution_count": 11,
     "metadata": {},
     "output_type": "execute_result"
    }
   ],
   "source": [
    "BMU"
   ]
  },
  {
   "cell_type": "code",
   "execution_count": 12,
   "metadata": {},
   "outputs": [
    {
     "data": {
      "text/plain": [
       "[184.6707583219254,\n",
       " 200.5543696514186,\n",
       " 92.15447369009479,\n",
       " 34.91617691655654,\n",
       " 74.45570612702176,\n",
       " 27.7985381770646]"
      ]
     },
     "execution_count": 12,
     "metadata": {},
     "output_type": "execute_result"
    }
   ],
   "source": [
    "BDMU"
   ]
  },
  {
   "cell_type": "code",
   "execution_count": 13,
   "metadata": {},
   "outputs": [
    {
     "data": {
      "text/plain": [
       "3.0154100253322907e-24"
      ]
     },
     "execution_count": 13,
     "metadata": {},
     "output_type": "execute_result"
    }
   ],
   "source": [
    "num = BMU[0]/(2.*BDMU[0]**2) + BMU[1]/(2.*BDMU[1]**2) + BMU[2]/(2.*BDMU[2]**2) + BMU[3]/(2.*BDMU[3]**2) + BMU[4]/(2.*BDMU[4]**2) + BMU[5]/(2.*BDMU[5]**2)\n",
    "den = 1./(2.*BDMU[0]**2) + 1./(2.*BDMU[1]**2) + 1./(2.*BDMU[2]**2) + 1./(2.*BDMU[3]**2) + 1./(2.*BDMU[4]**2) + 1./(2.*BDMU[5]**2) \n",
    "mean = num/den\n",
    "mean * hc"
   ]
  },
  {
   "cell_type": "code",
   "execution_count": 14,
   "metadata": {},
   "outputs": [
    {
     "data": {
      "text/plain": [
       "2.592298631889745e-24"
      ]
     },
     "execution_count": 14,
     "metadata": {},
     "output_type": "execute_result"
    }
   ],
   "source": [
    "den2 = 1./(BDMU[0]**2) + 1./(BDMU[1]**2) + 1./(BDMU[2]**2) + 1./(BDMU[3]**2) + 1./(BDMU[4]**2) + 1./(BDMU[5]**2)\n",
    "sigma = 1./den2\n",
    "sigma*hc"
   ]
  },
  {
   "cell_type": "code",
   "execution_count": 15,
   "metadata": {},
   "outputs": [
    {
     "data": {
      "text/plain": [
       "4.2311139344254565e-25"
      ]
     },
     "execution_count": 15,
     "metadata": {},
     "output_type": "execute_result"
    }
   ],
   "source": [
    "mean * hc - sigma*hc\n"
   ]
  },
  {
   "cell_type": "code",
   "execution_count": 16,
   "metadata": {},
   "outputs": [
    {
     "data": {
      "text/plain": [
       "5.607708657222036e-24"
      ]
     },
     "execution_count": 16,
     "metadata": {},
     "output_type": "execute_result"
    }
   ],
   "source": [
    "mean * hc + sigma*hc"
   ]
  }
 ],
 "metadata": {
  "kernelspec": {
   "display_name": "Python 3",
   "language": "python",
   "name": "python3"
  },
  "language_info": {
   "codemirror_mode": {
    "name": "ipython",
    "version": 3
   },
   "file_extension": ".py",
   "mimetype": "text/x-python",
   "name": "python",
   "nbconvert_exporter": "python",
   "pygments_lexer": "ipython3",
   "version": "3.7.0"
  }
 },
 "nbformat": 4,
 "nbformat_minor": 2
}
