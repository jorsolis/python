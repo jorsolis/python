{
 "cells": [
  {
   "cell_type": "code",
   "execution_count": 2,
   "metadata": {},
   "outputs": [],
   "source": [
    "%matplotlib inline"
   ]
  },
  {
   "cell_type": "markdown",
   "metadata": {},
   "source": [
    "\n",
    "Model Selection using lmfit and emcee\n",
    "=====================================\n",
    "\n",
    "FIXME: this is a useful examples; however, it doesn't run correctly anymore as\n",
    "the PTSampler was removed in emcee v3...\n"
   ]
  },
  {
   "cell_type": "markdown",
   "metadata": {},
   "source": [
    "`lmfit.emcee` can be used to obtain the posterior probability distribution\n",
    "of parameters, given a set of experimental data. This notebook shows how it\n",
    "can be used for Bayesian model selection.\n",
    "\n"
   ]
  },
  {
   "cell_type": "code",
   "execution_count": 1,
   "metadata": {},
   "outputs": [],
   "source": [
    "import matplotlib.pyplot as plt\n",
    "import numpy as np\n",
    "\n",
    "import lmfit"
   ]
  },
  {
   "cell_type": "markdown",
   "metadata": {},
   "source": [
    "Define a Gaussian lineshape and generate some data:\n",
    "\n"
   ]
  },
  {
   "cell_type": "code",
   "execution_count": 3,
   "metadata": {},
   "outputs": [],
   "source": [
    "def gauss(x, a_max, loc, sd):\n",
    "    return a_max * np.exp(-((x - loc) / sd)**2)\n",
    "\n",
    "\n",
    "x = np.linspace(3, 7, 250)\n",
    "np.random.seed(0)\n",
    "y = 4 + 10 * x + gauss(x, 200, 5, 0.5) + gauss(x, 60, 5.8, 0.2)\n",
    "dy = np.sqrt(y)\n",
    "y += dy * np.random.randn(y.size)"
   ]
  },
  {
   "cell_type": "markdown",
   "metadata": {},
   "source": [
    "Plot the data:\n",
    "\n"
   ]
  },
  {
   "cell_type": "code",
   "execution_count": 4,
   "metadata": {},
   "outputs": [
    {
     "data": {
      "text/plain": [
       "<ErrorbarContainer object of 3 artists>"
      ]
     },
     "execution_count": 4,
     "metadata": {},
     "output_type": "execute_result"
    },
    {
     "data": {
      "image/png": "[encoded data removed]",
      "text/plain": [
       "<Figure size 432x288 with 1 Axes>"
      ]
     },
     "metadata": {
      "needs_background": "light"
     },
     "output_type": "display_data"
    }
   ],
   "source": [
    "plt.errorbar(x, y)"
   ]
  },
  {
   "cell_type": "markdown",
   "metadata": {},
   "source": [
    "Define the normalised residual for the data:\n",
    "\n"
   ]
  },
  {
   "cell_type": "code",
   "execution_count": 5,
   "metadata": {},
   "outputs": [],
   "source": [
    "def residual(p, just_generative=False):\n",
    "    v = p.valuesdict()\n",
    "    generative = v['a'] + v['b'] * x\n",
    "    M = 0\n",
    "    while 'a_max%d' % M in v:\n",
    "        generative += gauss(x, v['a_max%d' % M], v['loc%d' % M], v['sd%d' % M])\n",
    "        M += 1\n",
    "\n",
    "    if just_generative:\n",
    "        return generative\n",
    "    return (generative - y) / dy"
   ]
  },
  {
   "cell_type": "markdown",
   "metadata": {},
   "source": [
    "Create a Parameter set for the initial guesses:\n",
    "\n"
   ]
  },
  {
   "cell_type": "code",
   "execution_count": 6,
   "metadata": {},
   "outputs": [],
   "source": [
    "def initial_peak_params(M):\n",
    "    p = lmfit.Parameters()\n",
    "\n",
    "    # a and b give a linear background\n",
    "    a = np.mean(y)\n",
    "    b = 1\n",
    "\n",
    "    # a_max, loc and sd are the amplitude, location and SD of each Gaussian\n",
    "    # component\n",
    "    a_max = np.max(y)\n",
    "    loc = np.mean(x)\n",
    "    sd = (np.max(x) - np.min(x)) * 0.5\n",
    "\n",
    "    p.add_many(('a', a, True, 0, 10), ('b', b, True, 1, 15))\n",
    "\n",
    "    for i in range(M):\n",
    "        p.add_many(('a_max%d' % i, 0.5 * a_max, True, 10, a_max),\n",
    "                   ('loc%d' % i, loc, True, np.min(x), np.max(x)),\n",
    "                   ('sd%d' % i, sd, True, 0.1, np.max(x) - np.min(x)))\n",
    "    return p"
   ]
  },
  {
   "cell_type": "markdown",
   "metadata": {},
   "source": [
    "Solving with `minimize` gives the Maximum Likelihood solution.\n",
    "\n"
   ]
  },
  {
   "cell_type": "code",
   "execution_count": 7,
   "metadata": {},
   "outputs": [
    {
     "name": "stdout",
     "output_type": "stream",
     "text": [
      "[[Variables]]\n",
      "    a:       1.51255587 +/- 2.85249723 (188.59%) (init = 10)\n",
      "    b:       10.5608538 +/- 0.60807955 (5.76%) (init = 1)\n",
      "    a_max0:  193.129327 +/- 3.84004837 (1.99%) (init = 141.2683)\n",
      "    loc0:    5.03878769 +/- 0.00822976 (0.16%) (init = 5)\n",
      "    sd0:     0.57100576 +/- 0.01196125 (2.09%) (init = 2)\n",
      "[[Correlations]] (unreported correlations are < 0.500)\n",
      "    C(a, b)        = -0.943\n",
      "    C(a_max0, sd0) = -0.509\n"
     ]
    }
   ],
   "source": [
    "p1 = initial_peak_params(1)\n",
    "mi1 = lmfit.minimize(residual, p1, method='differential_evolution')\n",
    "\n",
    "lmfit.printfuncs.report_fit(mi1.params, min_correl=0.5)"
   ]
  },
  {
   "cell_type": "markdown",
   "metadata": {},
   "source": [
    "From inspection of the data above we can tell that there is going to be more\n",
    "than 1 Gaussian component, but how many are there? A Bayesian approach can\n",
    "be used for this model selection problem. We can do this with `lmfit.emcee`,\n",
    "which uses the `emcee` package to do a Markov Chain Monte Carlo sampling of\n",
    "the posterior probability distribution. `lmfit.emcee` requires a function\n",
    "that returns the log-posterior probability. The log-posterior probability is\n",
    "a sum of the log-prior probability and log-likelihood functions.\n",
    "\n",
    "The log-prior probability encodes information about what you already believe\n",
    "about the system. `lmfit.emcee` assumes that this log-prior probability is\n",
    "zero if all the parameters are within their bounds and `-np.inf` if any of\n",
    "the parameters are outside their bounds. As such it's a uniform prior.\n",
    "\n",
    "The log-likelihood function is given below. To use non-uniform priors then\n",
    "should include these terms in `lnprob`. This is the log-likelihood\n",
    "probability for the sampling.\n",
    "\n"
   ]
  },
  {
   "cell_type": "code",
   "execution_count": 8,
   "metadata": {},
   "outputs": [],
   "source": [
    "def lnprob(p):\n",
    "    resid = residual(p, just_generative=True)\n",
    "    return -0.5 * np.sum(((resid - y) / dy)**2 + np.log(2 * np.pi * dy**2))"
   ]
  },
  {
   "cell_type": "markdown",
   "metadata": {},
   "source": [
    "To start with we have to create the minimizers and *burn* them in. We create\n",
    "4 different minimizers representing 0, 1, 2 or 3 Gaussian contributions. To\n",
    "do the model selection we have to integrate the over the log-posterior\n",
    "distribution to see which has the higher probability. This is done using the\n",
    "`thermodynamic_integration_log_evidence` method of the `sampler` attribute\n",
    "contained in the `lmfit.Minimizer` object.\n",
    "\n"
   ]
  },
  {
   "cell_type": "code",
   "execution_count": 9,
   "metadata": {},
   "outputs": [
    {
     "name": "stderr",
     "output_type": "stream",
     "text": [
      "/home/jordi/anaconda3/lib/python3.7/site-packages/lmfit/minimizer.py:825: RuntimeWarning: invalid value encountered in sqrt\n",
      "  par.stderr = sqrt(self.result.covar[ivar, ivar])\n",
      "/home/jordi/anaconda3/lib/python3.7/site-packages/lmfit/minimizer.py:832: RuntimeWarning: invalid value encountered in sqrt\n",
      "  (par.stderr * sqrt(self.result.covar[jvar, jvar])))\n"
     ]
    },
    {
     "ename": "DeprecationWarning",
     "evalue": "'ntemps' has no effect anymore, since the PTSampler was removed from emcee version 3.",
     "output_type": "error",
     "traceback": [
      "\u001b[0;31m---------------------------------------------------------------------------\u001b[0m",
      "\u001b[0;31mDeprecationWarning\u001b[0m                        Traceback (most recent call last)",
      "\u001b[0;32m<ipython-input-9-a5dcd7ea8947>\u001b[0m in \u001b[0;36m<module>\u001b[0;34m()\u001b[0m\n\u001b[1;32m     24\u001b[0m     out = mini[i].emcee(steps=total_steps, ntemps=ntemps, workers=workers,\n\u001b[1;32m     25\u001b[0m                         \u001b[0mreuse_sampler\u001b[0m\u001b[0;34m=\u001b[0m\u001b[0;32mFalse\u001b[0m\u001b[0;34m,\u001b[0m \u001b[0mfloat_behavior\u001b[0m\u001b[0;34m=\u001b[0m\u001b[0;34m'posterior'\u001b[0m\u001b[0;34m,\u001b[0m\u001b[0;34m\u001b[0m\u001b[0m\n\u001b[0;32m---> 26\u001b[0;31m                         progress=True)\n\u001b[0m\u001b[1;32m     27\u001b[0m     \u001b[0;31m# get the evidence\u001b[0m\u001b[0;34m\u001b[0m\u001b[0;34m\u001b[0m\u001b[0m\n\u001b[1;32m     28\u001b[0m     \u001b[0mprint\u001b[0m\u001b[0;34m(\u001b[0m\u001b[0mi\u001b[0m\u001b[0;34m,\u001b[0m \u001b[0mtotal_steps\u001b[0m\u001b[0;34m,\u001b[0m \u001b[0mmini\u001b[0m\u001b[0;34m[\u001b[0m\u001b[0mi\u001b[0m\u001b[0;34m]\u001b[0m\u001b[0;34m.\u001b[0m\u001b[0msampler\u001b[0m\u001b[0;34m.\u001b[0m\u001b[0mthermodynamic_integration_log_evidence\u001b[0m\u001b[0;34m(\u001b[0m\u001b[0;34m)\u001b[0m\u001b[0;34m)\u001b[0m\u001b[0;34m\u001b[0m\u001b[0m\n",
      "\u001b[0;32m~/anaconda3/lib/python3.7/site-packages/lmfit/minimizer.py\u001b[0m in \u001b[0;36memcee\u001b[0;34m(self, params, steps, nwalkers, burn, thin, ntemps, pos, reuse_sampler, workers, float_behavior, is_weighted, seed, progress)\u001b[0m\n\u001b[1;32m   1279\u001b[0m             msg = (\"'ntemps' has no effect anymore, since the PTSampler was \"\n\u001b[1;32m   1280\u001b[0m                    \"removed from emcee version 3.\")\n\u001b[0;32m-> 1281\u001b[0;31m             \u001b[0;32mraise\u001b[0m \u001b[0mDeprecationWarning\u001b[0m\u001b[0;34m(\u001b[0m\u001b[0mmsg\u001b[0m\u001b[0;34m)\u001b[0m\u001b[0;34m\u001b[0m\u001b[0m\n\u001b[0m\u001b[1;32m   1282\u001b[0m \u001b[0;34m\u001b[0m\u001b[0m\n\u001b[1;32m   1283\u001b[0m         \u001b[0mtparams\u001b[0m \u001b[0;34m=\u001b[0m \u001b[0mparams\u001b[0m\u001b[0;34m\u001b[0m\u001b[0m\n",
      "\u001b[0;31mDeprecationWarning\u001b[0m: 'ntemps' has no effect anymore, since the PTSampler was removed from emcee version 3."
     ]
    }
   ],
   "source": [
    "# Work out the log-evidence for different numbers of peaks:\n",
    "total_steps = 310\n",
    "burn = 300\n",
    "thin = 10\n",
    "ntemps = 15\n",
    "workers = 1  # the multiprocessing does not work with sphinx-gallery\n",
    "log_evidence = []\n",
    "res = []\n",
    "\n",
    "# set up the Minimizers\n",
    "for i in range(4):\n",
    "    p0 = initial_peak_params(i)\n",
    "    # you can't use lnprob as a userfcn with minimize because it needs to be\n",
    "    # maximised\n",
    "    mini = lmfit.Minimizer(residual, p0)\n",
    "    out = mini.minimize(method='differential_evolution')\n",
    "    res.append(out)\n",
    "\n",
    "mini = []\n",
    "# burn in the samplers\n",
    "for i in range(4):\n",
    "    # do the sampling\n",
    "    mini.append(lmfit.Minimizer(lnprob, res[i].params))\n",
    "    out = mini[i].emcee(steps=total_steps, ntemps=ntemps, workers=workers,\n",
    "                        reuse_sampler=False, float_behavior='posterior',\n",
    "                        progress=True)\n",
    "    # get the evidence\n",
    "    print(i, total_steps, mini[i].sampler.thermodynamic_integration_log_evidence())\n",
    "    log_evidence.append(mini[i].sampler.thermodynamic_integration_log_evidence()[0])"
   ]
  },
  {
   "cell_type": "markdown",
   "metadata": {},
   "source": [
    "Once we've burned in the samplers we have to do a collection run. We thin\n",
    "out the MCMC chain to reduce autocorrelation between successive samples.\n",
    "\n"
   ]
  },
  {
   "cell_type": "code",
   "execution_count": 10,
   "metadata": {},
   "outputs": [
    {
     "ename": "DeprecationWarning",
     "evalue": "'ntemps' has no effect anymore, since the PTSampler was removed from emcee version 3.",
     "output_type": "error",
     "traceback": [
      "\u001b[0;31m---------------------------------------------------------------------------\u001b[0m",
      "\u001b[0;31mDeprecationWarning\u001b[0m                        Traceback (most recent call last)",
      "\u001b[0;32m<ipython-input-10-2c3c9d8c8d8b>\u001b[0m in \u001b[0;36m<module>\u001b[0;34m()\u001b[0m\n\u001b[1;32m      4\u001b[0m         \u001b[0;31m# do the sampling\u001b[0m\u001b[0;34m\u001b[0m\u001b[0;34m\u001b[0m\u001b[0m\n\u001b[1;32m      5\u001b[0m         res = mini[i].emcee(burn=burn, steps=100, thin=thin, ntemps=ntemps,\n\u001b[0;32m----> 6\u001b[0;31m                             workers=workers, reuse_sampler=True, progress=False)\n\u001b[0m\u001b[1;32m      7\u001b[0m         \u001b[0;31m# get the evidence\u001b[0m\u001b[0;34m\u001b[0m\u001b[0;34m\u001b[0m\u001b[0m\n\u001b[1;32m      8\u001b[0m         \u001b[0mprint\u001b[0m\u001b[0;34m(\u001b[0m\u001b[0mi\u001b[0m\u001b[0;34m,\u001b[0m \u001b[0mtotal_steps\u001b[0m\u001b[0;34m,\u001b[0m \u001b[0mmini\u001b[0m\u001b[0;34m[\u001b[0m\u001b[0mi\u001b[0m\u001b[0;34m]\u001b[0m\u001b[0;34m.\u001b[0m\u001b[0msampler\u001b[0m\u001b[0;34m.\u001b[0m\u001b[0mthermodynamic_integration_log_evidence\u001b[0m\u001b[0;34m(\u001b[0m\u001b[0;34m)\u001b[0m\u001b[0;34m)\u001b[0m\u001b[0;34m\u001b[0m\u001b[0m\n",
      "\u001b[0;32m~/anaconda3/lib/python3.7/site-packages/lmfit/minimizer.py\u001b[0m in \u001b[0;36memcee\u001b[0;34m(self, params, steps, nwalkers, burn, thin, ntemps, pos, reuse_sampler, workers, float_behavior, is_weighted, seed, progress)\u001b[0m\n\u001b[1;32m   1279\u001b[0m             msg = (\"'ntemps' has no effect anymore, since the PTSampler was \"\n\u001b[1;32m   1280\u001b[0m                    \"removed from emcee version 3.\")\n\u001b[0;32m-> 1281\u001b[0;31m             \u001b[0;32mraise\u001b[0m \u001b[0mDeprecationWarning\u001b[0m\u001b[0;34m(\u001b[0m\u001b[0mmsg\u001b[0m\u001b[0;34m)\u001b[0m\u001b[0;34m\u001b[0m\u001b[0m\n\u001b[0m\u001b[1;32m   1282\u001b[0m \u001b[0;34m\u001b[0m\u001b[0m\n\u001b[1;32m   1283\u001b[0m         \u001b[0mtparams\u001b[0m \u001b[0;34m=\u001b[0m \u001b[0mparams\u001b[0m\u001b[0;34m\u001b[0m\u001b[0m\n",
      "\u001b[0;31mDeprecationWarning\u001b[0m: 'ntemps' has no effect anymore, since the PTSampler was removed from emcee version 3."
     ]
    }
   ],
   "source": [
    "for j in range(6):\n",
    "    total_steps += 100\n",
    "    for i in range(4):\n",
    "        # do the sampling\n",
    "        res = mini[i].emcee(burn=burn, steps=100, thin=thin, ntemps=ntemps,\n",
    "                            workers=workers, reuse_sampler=True, progress=False)\n",
    "        # get the evidence\n",
    "        print(i, total_steps, mini[i].sampler.thermodynamic_integration_log_evidence())\n",
    "        log_evidence.append(mini[i].sampler.thermodynamic_integration_log_evidence()[0])\n",
    "\n",
    "\n",
    "plt.plot(log_evidence[-4:])\n",
    "plt.ylabel('Log-evidence')\n",
    "plt.xlabel('number of peaks')"
   ]
  },
  {
   "cell_type": "markdown",
   "metadata": {},
   "source": [
    "The Bayes factor is related to the exponential of the difference between the\n",
    "log-evidence values.  Thus, 0 peaks is not very likely compared to 1 peak.\n",
    "But 1 peak is not as good as 2 peaks. 3 peaks is not that much better than 2\n",
    "peaks.\n",
    "\n"
   ]
  },
  {
   "cell_type": "code",
   "execution_count": 11,
   "metadata": {},
   "outputs": [
    {
     "ename": "IndexError",
     "evalue": "list index out of range",
     "output_type": "error",
     "traceback": [
      "\u001b[0;31m---------------------------------------------------------------------------\u001b[0m",
      "\u001b[0;31mIndexError\u001b[0m                                Traceback (most recent call last)",
      "\u001b[0;32m<ipython-input-11-ef9d448054e3>\u001b[0m in \u001b[0;36m<module>\u001b[0;34m()\u001b[0m\n\u001b[0;32m----> 1\u001b[0;31m \u001b[0mr01\u001b[0m \u001b[0;34m=\u001b[0m \u001b[0mnp\u001b[0m\u001b[0;34m.\u001b[0m\u001b[0mexp\u001b[0m\u001b[0;34m(\u001b[0m\u001b[0mlog_evidence\u001b[0m\u001b[0;34m[\u001b[0m\u001b[0;34m-\u001b[0m\u001b[0;36m4\u001b[0m\u001b[0;34m]\u001b[0m \u001b[0;34m-\u001b[0m \u001b[0mlog_evidence\u001b[0m\u001b[0;34m[\u001b[0m\u001b[0;34m-\u001b[0m\u001b[0;36m3\u001b[0m\u001b[0;34m]\u001b[0m\u001b[0;34m)\u001b[0m\u001b[0;34m\u001b[0m\u001b[0m\n\u001b[0m\u001b[1;32m      2\u001b[0m \u001b[0mr12\u001b[0m \u001b[0;34m=\u001b[0m \u001b[0mnp\u001b[0m\u001b[0;34m.\u001b[0m\u001b[0mexp\u001b[0m\u001b[0;34m(\u001b[0m\u001b[0mlog_evidence\u001b[0m\u001b[0;34m[\u001b[0m\u001b[0;34m-\u001b[0m\u001b[0;36m3\u001b[0m\u001b[0;34m]\u001b[0m \u001b[0;34m-\u001b[0m \u001b[0mlog_evidence\u001b[0m\u001b[0;34m[\u001b[0m\u001b[0;34m-\u001b[0m\u001b[0;36m2\u001b[0m\u001b[0;34m]\u001b[0m\u001b[0;34m)\u001b[0m\u001b[0;34m\u001b[0m\u001b[0m\n\u001b[1;32m      3\u001b[0m \u001b[0mr23\u001b[0m \u001b[0;34m=\u001b[0m \u001b[0mnp\u001b[0m\u001b[0;34m.\u001b[0m\u001b[0mexp\u001b[0m\u001b[0;34m(\u001b[0m\u001b[0mlog_evidence\u001b[0m\u001b[0;34m[\u001b[0m\u001b[0;34m-\u001b[0m\u001b[0;36m2\u001b[0m\u001b[0;34m]\u001b[0m \u001b[0;34m-\u001b[0m \u001b[0mlog_evidence\u001b[0m\u001b[0;34m[\u001b[0m\u001b[0;34m-\u001b[0m\u001b[0;36m1\u001b[0m\u001b[0;34m]\u001b[0m\u001b[0;34m)\u001b[0m\u001b[0;34m\u001b[0m\u001b[0m\n\u001b[1;32m      4\u001b[0m \u001b[0;34m\u001b[0m\u001b[0m\n\u001b[1;32m      5\u001b[0m \u001b[0mprint\u001b[0m\u001b[0;34m(\u001b[0m\u001b[0mr01\u001b[0m\u001b[0;34m,\u001b[0m \u001b[0mr12\u001b[0m\u001b[0;34m,\u001b[0m \u001b[0mr23\u001b[0m\u001b[0;34m)\u001b[0m\u001b[0;34m\u001b[0m\u001b[0m\n",
      "\u001b[0;31mIndexError\u001b[0m: list index out of range"
     ]
    }
   ],
   "source": [
    "r01 = np.exp(log_evidence[-4] - log_evidence[-3])\n",
    "r12 = np.exp(log_evidence[-3] - log_evidence[-2])\n",
    "r23 = np.exp(log_evidence[-2] - log_evidence[-1])\n",
    "\n",
    "print(r01, r12, r23)"
   ]
  },
  {
   "cell_type": "markdown",
   "metadata": {},
   "source": [
    "These numbers tell us that zero peaks is 0 times as likely as one peak. Two\n",
    "peaks is 7e49 times more likely than one peak. Three peaks is 1.1 times more\n",
    "likely than two peaks. With this data one would say that two peaks is\n",
    "sufficient. Caution has to be taken with these values. The log-priors for\n",
    "this sampling are uniform but improper, i.e. they are not normalised properly.\n",
    "Internally the lnprior probability is calculated as 0 if all parameters are\n",
    "within their bounds and `-np.inf` if any parameter is outside the bounds.\n",
    "The `lnprob` function defined above is the log-likelihood alone. Remember,\n",
    "that the log-posterior probability is equal to the sum of the log-prior and\n",
    "log-likelihood probabilities. Extra terms can be added to the lnprob function\n",
    "to calculate the normalised log-probability. These terms would look something\n",
    "like:\n",
    "\n",
    "\\begin{align}\\log (\\prod_i \\frac{1}{max_i - min_i})\\end{align}\n",
    "\n",
    "where $max_i$ and $min_i$ are the upper and lower bounds for the\n",
    "parameter, and the prior is a uniform distribution. Other types of prior are\n",
    "possible. For example, you might expect the prior to be Gaussian.\n",
    "\n"
   ]
  },
  {
   "cell_type": "code",
   "execution_count": null,
   "metadata": {},
   "outputs": [],
   "source": []
  }
 ],
 "metadata": {
  "kernelspec": {
   "display_name": "Python 3",
   "language": "python",
   "name": "python3"
  },
  "language_info": {
   "codemirror_mode": {
    "name": "ipython",
    "version": 3
   },
   "file_extension": ".py",
   "mimetype": "text/x-python",
   "name": "python",
   "nbconvert_exporter": "python",
   "pygments_lexer": "ipython3",
   "version": "3.7.0"
  }
 },
 "nbformat": 4,
 "nbformat_minor": 1
}
