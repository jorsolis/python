{
 "cells": [
  {
   "cell_type": "code",
   "execution_count": 1,
   "metadata": {},
   "outputs": [
    {
     "name": "stdout",
     "output_type": "stream",
     "text": [
      "galpyWarning: libgalpy C extension module not loaded, because libgalpy.cpython-37m-x86_64-linux-gnu.so image was not found\n"
     ]
    }
   ],
   "source": [
    "import pymc3 as pm3\n",
    "import plots_jordi as pts\n",
    "import numpy as np\n",
    "from MW_M31_rotation_curve_padila import v2_DM, M_t,M_CNFW\n",
    "from MW_M31_rotation_curve import RC_miyamoto\n",
    "import matplotlib.pyplot as plt\n",
    "from rotation_curves_SPARC_padilla2 import g\n",
    "import arviz as az"
   ]
  },
  {
   "cell_type": "code",
   "execution_count": 2,
   "metadata": {},
   "outputs": [],
   "source": [
    "np.random.seed(12345)\n",
    "sat = '/home/jordi/satellite'\n",
    "dirfitsG = '/home/jordi/satellite/MW_rotation_curve_data/Fits/Gaussian/'\n",
    "dirdata = '/home/jordi/satellite/MW_rotation_curve_data'\n",
    "dataM31 = np.loadtxt('%s/M31_rotation_curve_data.txt'%sat)\n",
    "dataGrandMW= np.loadtxt(\"%s/Table_GrandRC.dat.txt\"%dirdata) \n",
    "c = 2.99792458e5 ## km/s\n",
    "Gentc2 = 4.799e-7 ##G/c^2 en kpc/(10^10 M_sol)\n",
    "G = Gentc2*c*c"
   ]
  },
  {
   "cell_type": "code",
   "execution_count": 3,
   "metadata": {},
   "outputs": [],
   "source": [
    "rad, v, v_error = dataGrandMW.T\n",
    "#rad, v, v_error =rad[:118], v[:118], v_error[:118]\n",
    "def f(r, Mc, Rc):\n",
    "    return Mc*(-2.*np.exp(-r**2/Rc**2)*r + np.sqrt(np.pi)*Rc*pm3.math.erf(r/Rc))/(Rc*np.sqrt(np.pi))  \n",
    "\n",
    "def v2_DMatter(r, Rc, Mc, re, rs):## M es entre 10^10 M_sol\n",
    "    rhos = Mc*re*np.exp(-re**2/Rc**2)*(1. + re/rs)**2/(rs*np.sqrt(np.pi)**3*Rc**3)\n",
    "    Mh = pm3.math.switch(r>re, f(re, Mc, Rc) + 4.*np.pi*rs**3*rhos*(g(r, rs) - g(re, rs)),\n",
    "                    f(r, Mc, Rc))\n",
    "    ve2 = G*Mh/r\n",
    "    return ve2"
   ]
  },
  {
   "cell_type": "code",
   "execution_count": 4,
   "metadata": {},
   "outputs": [],
   "source": [
    "MO = {'Rc' : [0.001, 70., 36.], 'Mc' : [0.001, 500., 12.6],\n",
    "      're' : [0.001, 150., 30.], 'rs' : [0.001, 300., 150.], \n",
    "      'Md' : [0.001, 20., 10.0], 'ad' : [0.001, 10., 3.],'bd' : [0.001, 8.0, 1.8],\n",
    "      'Mb' : [0.001, 3.5, 1.25], 'bb' : [0.001, 1., 0.31]}\n",
    "    \n",
    "nsamples = 100000"
   ]
  },
  {
   "cell_type": "code",
   "execution_count": 5,
   "metadata": {},
   "outputs": [
    {
     "data": {
      "text/html": [
       "\n",
       "    <div>\n",
       "        <style>\n",
       "            /* Turns off some styling */\n",
       "            progress {\n",
       "                /* gets rid of default border in Firefox and Opera. */\n",
       "                border: none;\n",
       "                /* Needs to be in here for Safari polyfill so background images work as expected. */\n",
       "                background-size: auto;\n",
       "            }\n",
       "            .progress-bar-interrupted, .progress-bar-interrupted::-webkit-progress-bar {\n",
       "                background: #F44336;\n",
       "            }\n",
       "        </style>\n",
       "      <progress value='135' class='' max='135' style='width:300px; height:20px; vertical-align: middle;'></progress>\n",
       "      100.00% [135/135 00:00<00:00 logp = -500.78, ||grad|| = 0.0947]\n",
       "    </div>\n",
       "    "
      ],
      "text/plain": [
       "<IPython.core.display.HTML object>"
      ]
     },
     "metadata": {},
     "output_type": "display_data"
    },
    {
     "name": "stdout",
     "output_type": "stream",
     "text": [
      "\n"
     ]
    },
    {
     "name": "stderr",
     "output_type": "stream",
     "text": [
      "Auto-assigning NUTS sampler...\n",
      "Initializing NUTS using jitter+adapt_diag...\n",
      "Multiprocess sampling (2 chains in 2 jobs)\n",
      "NUTS: [$b_b$, $M_b$, $b_d$, $a_d$, $M_d$, $r_s$, $r_e$, $M_c$, $R_c$]\n"
     ]
    },
    {
     "data": {
      "text/html": [
       "\n",
       "    <div>\n",
       "        <style>\n",
       "            /* Turns off some styling */\n",
       "            progress {\n",
       "                /* gets rid of default border in Firefox and Opera. */\n",
       "                border: none;\n",
       "                /* Needs to be in here for Safari polyfill so background images work as expected. */\n",
       "                background-size: auto;\n",
       "            }\n",
       "            .progress-bar-interrupted, .progress-bar-interrupted::-webkit-progress-bar {\n",
       "                background: #F44336;\n",
       "            }\n",
       "        </style>\n",
       "      <progress value='4518' class='' max='202000' style='width:300px; height:20px; vertical-align: middle;'></progress>\n",
       "      2.24% [4518/202000 02:28<1:48:19 Sampling 2 chains, 950 divergences]\n",
       "    </div>\n",
       "    "
      ],
      "text/plain": [
       "<IPython.core.display.HTML object>"
      ]
     },
     "metadata": {},
     "output_type": "display_data"
    },
    {
     "ename": "KeyError",
     "evalue": "0",
     "output_type": "error",
     "traceback": [
      "\u001b[0;31m---------------------------------------------------------------------------\u001b[0m",
      "\u001b[0;31mKeyError\u001b[0m                                  Traceback (most recent call last)",
      "\u001b[0;32m<ipython-input-5-11ce5b3410fa>\u001b[0m in \u001b[0;36m<module>\u001b[0;34m()\u001b[0m\n\u001b[1;32m     15\u001b[0m     \u001b[0mstart\u001b[0m \u001b[0;34m=\u001b[0m \u001b[0mpm3\u001b[0m\u001b[0;34m.\u001b[0m\u001b[0mfind_MAP\u001b[0m\u001b[0;34m(\u001b[0m\u001b[0;34m)\u001b[0m\u001b[0;34m\u001b[0m\u001b[0m\n\u001b[1;32m     16\u001b[0m     \u001b[0mstep\u001b[0m \u001b[0;34m=\u001b[0m \u001b[0mpm3\u001b[0m\u001b[0;34m.\u001b[0m\u001b[0mNUTS\u001b[0m\u001b[0;34m(\u001b[0m\u001b[0;34m)\u001b[0m\u001b[0;34m\u001b[0m\u001b[0m\n\u001b[0;32m---> 17\u001b[0;31m     trace = pm3.sample(nsamples, start=start, progressbar=True,\n\u001b[0m\u001b[1;32m     18\u001b[0m \u001b[0;31m#                       cores = 4,\u001b[0m\u001b[0;34m\u001b[0m\u001b[0;34m\u001b[0m\u001b[0m\n\u001b[1;32m     19\u001b[0m \u001b[0;31m#                       tune = 2000, target_accept=.95\u001b[0m\u001b[0;34m\u001b[0m\u001b[0;34m\u001b[0m\u001b[0m\n",
      "\u001b[0;32m~/anaconda3/lib/python3.7/site-packages/pymc3/sampling.py\u001b[0m in \u001b[0;36msample\u001b[0;34m(draws, step, init, n_init, start, trace, chain_idx, chains, cores, tune, progressbar, model, random_seed, discard_tuned_samples, compute_convergence_checks, callback, return_inferencedata, idata_kwargs, **kwargs)\u001b[0m\n\u001b[1;32m    565\u001b[0m     \u001b[0;31m# ideally via the \"tune\" statistic, but not all samplers record it!\u001b[0m\u001b[0;34m\u001b[0m\u001b[0;34m\u001b[0m\u001b[0m\n\u001b[1;32m    566\u001b[0m     \u001b[0;32mif\u001b[0m \u001b[0;34m'tune'\u001b[0m \u001b[0;32min\u001b[0m \u001b[0mtrace\u001b[0m\u001b[0;34m.\u001b[0m\u001b[0mstat_names\u001b[0m\u001b[0;34m:\u001b[0m\u001b[0;34m\u001b[0m\u001b[0m\n\u001b[0;32m--> 567\u001b[0;31m         \u001b[0mstat\u001b[0m \u001b[0;34m=\u001b[0m \u001b[0mtrace\u001b[0m\u001b[0;34m.\u001b[0m\u001b[0mget_sampler_stats\u001b[0m\u001b[0;34m(\u001b[0m\u001b[0;34m'tune'\u001b[0m\u001b[0;34m,\u001b[0m \u001b[0mchains\u001b[0m\u001b[0;34m=\u001b[0m\u001b[0;36m0\u001b[0m\u001b[0;34m)\u001b[0m\u001b[0;34m\u001b[0m\u001b[0m\n\u001b[0m\u001b[1;32m    568\u001b[0m         \u001b[0;31m# when CompoundStep is used, the stat is 2 dimensional!\u001b[0m\u001b[0;34m\u001b[0m\u001b[0;34m\u001b[0m\u001b[0m\n\u001b[1;32m    569\u001b[0m         \u001b[0;32mif\u001b[0m \u001b[0mlen\u001b[0m\u001b[0;34m(\u001b[0m\u001b[0mstat\u001b[0m\u001b[0;34m.\u001b[0m\u001b[0mshape\u001b[0m\u001b[0;34m)\u001b[0m \u001b[0;34m==\u001b[0m \u001b[0;36m2\u001b[0m\u001b[0;34m:\u001b[0m\u001b[0;34m\u001b[0m\u001b[0m\n",
      "\u001b[0;32m~/anaconda3/lib/python3.7/site-packages/pymc3/backends/base.py\u001b[0m in \u001b[0;36mget_sampler_stats\u001b[0;34m(self, stat_name, burn, thin, combine, chains, squeeze)\u001b[0m\n\u001b[1;32m    521\u001b[0m \u001b[0;34m\u001b[0m\u001b[0m\n\u001b[1;32m    522\u001b[0m         results = [self._straces[chain].get_sampler_stats(stat_name, None, burn, thin)\n\u001b[0;32m--> 523\u001b[0;31m                    for chain in chains]\n\u001b[0m\u001b[1;32m    524\u001b[0m         \u001b[0;32mreturn\u001b[0m \u001b[0m_squeeze_cat\u001b[0m\u001b[0;34m(\u001b[0m\u001b[0mresults\u001b[0m\u001b[0;34m,\u001b[0m \u001b[0mcombine\u001b[0m\u001b[0;34m,\u001b[0m \u001b[0msqueeze\u001b[0m\u001b[0;34m)\u001b[0m\u001b[0;34m\u001b[0m\u001b[0m\n\u001b[1;32m    525\u001b[0m \u001b[0;34m\u001b[0m\u001b[0m\n",
      "\u001b[0;32m~/anaconda3/lib/python3.7/site-packages/pymc3/backends/base.py\u001b[0m in \u001b[0;36m<listcomp>\u001b[0;34m(.0)\u001b[0m\n\u001b[1;32m    521\u001b[0m \u001b[0;34m\u001b[0m\u001b[0m\n\u001b[1;32m    522\u001b[0m         results = [self._straces[chain].get_sampler_stats(stat_name, None, burn, thin)\n\u001b[0;32m--> 523\u001b[0;31m                    for chain in chains]\n\u001b[0m\u001b[1;32m    524\u001b[0m         \u001b[0;32mreturn\u001b[0m \u001b[0m_squeeze_cat\u001b[0m\u001b[0;34m(\u001b[0m\u001b[0mresults\u001b[0m\u001b[0;34m,\u001b[0m \u001b[0mcombine\u001b[0m\u001b[0;34m,\u001b[0m \u001b[0msqueeze\u001b[0m\u001b[0;34m)\u001b[0m\u001b[0;34m\u001b[0m\u001b[0m\n\u001b[1;32m    525\u001b[0m \u001b[0;34m\u001b[0m\u001b[0m\n",
      "\u001b[0;31mKeyError\u001b[0m: 0"
     ]
    }
   ],
   "source": [
    "with pm3.Model() as model: \n",
    "    Rc = pm3.Uniform(r'$R_c$', MO['Rc'][0], MO['Rc'][1], testval = MO['Rc'][2])\n",
    "    Mc = pm3.Uniform(r'$M_c$', MO['Mc'][0], MO['Mc'][1], testval = MO['Mc'][2])\n",
    "    re = pm3.Uniform(r'$r_e$', MO['re'][0], MO['re'][1], testval = MO['re'][2])\n",
    "    rs = pm3.Uniform(r'$r_s$', MO['rs'][0], MO['rs'][1], testval = MO['rs'][2])  \n",
    "    Md = pm3.Uniform(r'$M_d$', MO['Md'][0], MO['Md'][1], testval = MO['Md'][2])\n",
    "    ad = pm3.Uniform(r'$a_d$', MO['ad'][0], MO['ad'][1], testval = MO['ad'][2])\n",
    "    bd = pm3.Uniform(r'$b_d$', MO['bd'][0], MO['bd'][1], testval = MO['bd'][2])\n",
    "    Mb = pm3.Uniform(r'$M_b$', MO['Mb'][0], MO['Mb'][1], testval = MO['Mb'][2])\n",
    "    bb = pm3.Uniform(r'$b_b$', MO['bb'][0], MO['bb'][1], testval = MO['bb'][2])\n",
    "    rot_vel = pm3.Deterministic('rot_vel', np.sqrt(v2_DMatter(rad, Rc, Mc, re, rs) + \n",
    "                                        RC_miyamoto(rad, G, Md, ad, bd)**2 +\n",
    "                                        RC_miyamoto(rad, G, Mb, 0., bb)**2))\n",
    "    y = pm3.Normal('y', mu = rot_vel, tau = 1.0/v_error**2, observed = v)\n",
    "    start = pm3.find_MAP()\n",
    "    step = pm3.NUTS()\n",
    "    trace = pm3.sample(nsamples, start=start, progressbar=True,\n",
    "#                       cores = 4,\n",
    "#                       tune = 2000, target_accept=.95\n",
    "                       ) #antes MDL"
   ]
  },
  {
   "cell_type": "code",
   "execution_count": null,
   "metadata": {},
   "outputs": [],
   "source": [
    "pm3.summary(trace).to_csv('%s/summary.csv' % dirfitsG)\n",
    "plt.show()\n",
    "y_min = np.percentile(trace.rot_vel,2.5,axis=0)\n",
    "y_max = np.percentile(trace.rot_vel,97.5,axis=0)\n",
    "y_fit = np.percentile(trace.rot_vel,50,axis=0)\n",
    "rmin, rmax = np.amin(rad), 20.\n",
    "name =   [r'$R_c$', r'$M_c$', r'$r_e$', r'$r_s$', r'$M_d$', r'$a_d$', r'$b_d$',\n",
    "          r'$M_b$',r'$b_b$']\n",
    "\n",
    "popt = pm3.summary(trace, var_names=name)['mean'].values ### summary keys ['mean', 'sd', 'hdi_3%', 'hdi_97%', 'mcse_mean', 'mcse_sd', 'ess_mean', 'ess_sd', 'ess_bulk', 'ess_tail', 'r_hat']\n",
    "Rc, Mc, re, rs, Md, ad, bd, Mb, bb = popt \n",
    "r = np.linspace(rmin, rmax, 1000)\n",
    "pts.plotmultiple([rad, r, r, r], [y_fit, RC_miyamoto(r, G,  Md, ad, bd),\n",
    "                 RC_miyamoto(r, G, Mb, 0., bb),\n",
    "                  np.sqrt(v2_DM(r, Rc, Mc, re, rs))],\n",
    "                 [r'Disk+Bulge+Gas+SFDM',\n",
    "                  r'Disk $M_d = %.1f\\times 10^{10} M_\\odot$, $a_d = %.2f $ kpc, $b_d=%.2f$kpc'%(Md,ad,bd),\n",
    "                  r'Bulge $M_b = %.1f\\times 10^{10} M_\\odot$, $b_b=%.2f$kpc'%(Mb,bb), \n",
    "                  r'DM  $R_c = %.1f$ kpc, $M_c = %.1f \\times 10^{10} M_\\odot$, $r_e=%.2f$kpc, $r_s=%.1f$kpc'%(Rc, Mc, re, rs),\n",
    "                  'Observed'],\n",
    "                 r'$r$(kpc)', r'$v$(km/s)', 'Miky Way',\n",
    "                 '%sDM_fit_MCMC.png'%(dirfitsG), ylim = (0,360),\n",
    "                 xlim = (rmin,rmax), data = True, xd = rad, yd = v, err = True,\n",
    "                 yerr = v_error, fill_between = True,\n",
    "                 fbx = rad, fby1 = y_min, fby2 = y_max)"
   ]
  },
  {
   "cell_type": "code",
   "execution_count": null,
   "metadata": {},
   "outputs": [],
   "source": [
    "fil= open(\"%s/cantidades_pymc3.txt\"%dirfitsG,\"w+\")\n",
    "cons = M_t(Rc, *popt)**2*Mc*1.0e9/1.45e4\n",
    "mu2 = 1./np.sqrt(np.sqrt(cons))\n",
    "mu = 1./(Rc*Gentc2*M_t(Rc, *popt))\n",
    "fil.write('Nsamples = %d \\r\\n'%nsamples)\n",
    "fil.write('Rc = %.2f kpc,  M(Rc) = %f x10^{10} M_sun \\r\\n'%(Rc, M_t(Rc, *popt)))\n",
    "fil.write('r = 2.00 kpc,  M(20kpc) = %f x10^{10} M_sun \\r\\n'%(M_t(20., *popt)))\n",
    "fil.write('mu = %f x10^{-22} eV/c^2,  mu = %f  x10^{-22} eV/c^2 \\r\\n'%(mu2, mu/15655.0))\n",
    "fil.write('Mhalo(300kpc) = %f x10^{12} M_sun \\r\\n'%(M_CNFW(300., Rc, Mc, re, rs)*1e-2))\n",
    "fil.close()"
   ]
  },
  {
   "cell_type": "code",
   "execution_count": null,
   "metadata": {},
   "outputs": [],
   "source": [
    "print('Rc =',Rc,'kpc', 'M(Rc) =',M_t(Rc, *popt), 'x10^{10} M_sun')\n",
    "print('M(20kpc) =',M_t(20., *popt), 'x10^{10} M_sun')\n",
    "print('mu =',mu2, 'x10^{-22} eV/c^2')\n",
    "print('mu =',mu/15655.0, 'x10^{-22} eV/c^2')"
   ]
  },
  {
   "cell_type": "code",
   "execution_count": null,
   "metadata": {},
   "outputs": [],
   "source": [
    "import matplotlib as mpl\n",
    "mpl.rcParams['ytick.labelsize'] = 6\n",
    "mpl.rcParams['xtick.labelsize'] = 6\n",
    "mpl.rcParams['axes.labelsize'] = 12\n",
    "mpl.rcParams['axes.linewidth'] = 1\n",
    "mpl.rcParams['lines.linewidth'] = 1\n",
    "az.rcParams['plot.max_subplots']= 80"
   ]
  },
  {
   "cell_type": "code",
   "execution_count": null,
   "metadata": {},
   "outputs": [],
   "source": [
    "ax = az.plot_pair(trace, var_names = name, kind = 'kde',# kind = [\"scatter\", \"kde\"],\n",
    "                  kde_kwargs={\"fill_last\": False}, marginals=True,\n",
    "                  point_estimate=\"mode\", figsize=(15, 12))\n",
    "plt.savefig('%sDM_fit_MCMC_pars.png'%(dirfitsG), bbox_inches='tight')\n",
    "plt.show()"
   ]
  },
  {
   "cell_type": "code",
   "execution_count": null,
   "metadata": {},
   "outputs": [],
   "source": [
    "plt.rc('text', usetex=True)\n",
    "plt.rc('font', family='serif')\n",
    "mpl.rcParams.update(mpl.rcParamsDefault)\n",
    "#pm3.traceplot(trace, varnames=name)\n",
    "pm3.plot_posterior(trace, name[1],figsize=(5, 4))\n",
    "for i in(0, 1,2,3,6):\n",
    "    az.plot_density(trace, var_names=name[i], shade=0.1, point_estimate='mean' )\n",
    "    plt.savefig('%sDM_fit_MCMC_%s.png'%(dirfitsG, name[i]), bbox_inches='tight')"
   ]
  },
  {
   "cell_type": "code",
   "execution_count": null,
   "metadata": {},
   "outputs": [],
   "source": []
  },
  {
   "cell_type": "code",
   "execution_count": null,
   "metadata": {},
   "outputs": [],
   "source": []
  }
 ],
 "metadata": {
  "kernelspec": {
   "display_name": "Python 3",
   "language": "python",
   "name": "python3"
  },
  "language_info": {
   "codemirror_mode": {
    "name": "ipython",
    "version": 3
   },
   "file_extension": ".py",
   "mimetype": "text/x-python",
   "name": "python",
   "nbconvert_exporter": "python",
   "pygments_lexer": "ipython3",
   "version": "3.7.0"
  }
 },
 "nbformat": 4,
 "nbformat_minor": 2
}
